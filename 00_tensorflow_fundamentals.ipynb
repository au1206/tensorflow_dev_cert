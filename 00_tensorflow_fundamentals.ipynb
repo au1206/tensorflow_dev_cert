{
  "nbformat": 4,
  "nbformat_minor": 0,
  "metadata": {
    "colab": {
      "name": "00_tensorflow_fundamentals.ipynb",
      "provenance": [],
      "authorship_tag": "ABX9TyNOxRQFPvtO/6CL4kX3S3WW",
      "include_colab_link": true
    },
    "kernelspec": {
      "name": "python3",
      "display_name": "Python 3"
    },
    "language_info": {
      "name": "python"
    }
  },
  "cells": [
    {
      "cell_type": "markdown",
      "metadata": {
        "id": "view-in-github",
        "colab_type": "text"
      },
      "source": [
        "<a href=\"https://colab.research.google.com/github/au1206/tensorflow_dev_cert/blob/main/00_tensorflow_fundamentals.ipynb\" target=\"_parent\"><img src=\"https://colab.research.google.com/assets/colab-badge.svg\" alt=\"Open In Colab\"/></a>"
      ]
    },
    {
      "cell_type": "markdown",
      "metadata": {
        "id": "OJzl9giWBhV5"
      },
      "source": [
        "# Tensorflow Fundamentals"
      ]
    },
    {
      "cell_type": "markdown",
      "metadata": {
        "id": "Mr9u4NVtBsmi"
      },
      "source": [
        "## Intro to Tensors"
      ]
    },
    {
      "cell_type": "code",
      "metadata": {
        "colab": {
          "base_uri": "https://localhost:8080/"
        },
        "id": "JCdQdY6OB3Yy",
        "outputId": "c5deaf66-0dcc-4d70-d771-f036d7eb44f7"
      },
      "source": [
        "import tensorflow as tf\n",
        "print(tf.__version__)"
      ],
      "execution_count": null,
      "outputs": [
        {
          "output_type": "stream",
          "text": [
            "2.5.0\n"
          ],
          "name": "stdout"
        }
      ]
    },
    {
      "cell_type": "markdown",
      "metadata": {
        "id": "Vb9WQPlCEkVB"
      },
      "source": [
        "### Creating *Tensors*"
      ]
    },
    {
      "cell_type": "markdown",
      "metadata": {
        "id": "ByzwklROBo4D"
      },
      "source": [
        "#### tf.constant()\n",
        "`def constant(value, dtype=None, shape=None, name='Const')`\n",
        "\n",
        "Creates a constant tensor from a tensor-like object.\n",
        "\n",
        "Note: All eager tf.Tensor values are **immutable** (in contrast to\n",
        "tf.Variable). There is nothing especially _constant_ about the value\n",
        "returned from tf.constant. This function is not fundamentally different from\n",
        "tf.convert_to_tensor. The name tf.constant comes from the value being\n",
        "embedded in a Const node in the tf.Graph. tf.constant is useful\n",
        "for asserting that the value can be embedded that way.\n",
        "\n",
        "**If the argument dtype is not specified, then the type is inferred from\n",
        "the type of value.**"
      ]
    },
    {
      "cell_type": "code",
      "metadata": {
        "colab": {
          "base_uri": "https://localhost:8080/"
        },
        "id": "c-ipJ6bFCI6F",
        "outputId": "fa7b4526-9a30-4d67-b366-5f9a25d0f7d9"
      },
      "source": [
        "# Create tensors using tf.constant()\n",
        "scalar = tf.constant(42)\n",
        "scalar"
      ],
      "execution_count": null,
      "outputs": [
        {
          "output_type": "execute_result",
          "data": {
            "text/plain": [
              "<tf.Tensor: shape=(), dtype=int32, numpy=42>"
            ]
          },
          "metadata": {
            "tags": []
          },
          "execution_count": 2
        }
      ]
    },
    {
      "cell_type": "markdown",
      "metadata": {
        "id": "ozH3tGviB2Dr"
      },
      "source": [
        "output:  `<tf.Tensor: shape=(), dtype=int32, numpy=42>`\n",
        "\n",
        "- shape is empty as its just a scalar value\n",
        "- dtype is int32 can be changed to floats etc, inferred from type of value if not mentioned\n",
        "- numpy=42, represents the numpy value stored in the tensor"
      ]
    },
    {
      "cell_type": "code",
      "metadata": {
        "colab": {
          "base_uri": "https://localhost:8080/"
        },
        "id": "URJnlO9qB6En",
        "outputId": "a39d982f-6a8d-4fe3-e0a0-c67871f9dfb6"
      },
      "source": [
        "# Check number of dimensions in tensor\n",
        "scalar.ndim"
      ],
      "execution_count": null,
      "outputs": [
        {
          "output_type": "execute_result",
          "data": {
            "text/plain": [
              "0"
            ]
          },
          "metadata": {
            "tags": []
          },
          "execution_count": 3
        }
      ]
    },
    {
      "cell_type": "code",
      "metadata": {
        "colab": {
          "base_uri": "https://localhost:8080/"
        },
        "id": "Ue5nCkguFAej",
        "outputId": "d6551f2b-1479-4724-815a-c3ef587fd981"
      },
      "source": [
        "# Create a Vector\n",
        "vector = tf.constant([10,11])\n",
        "vector"
      ],
      "execution_count": null,
      "outputs": [
        {
          "output_type": "execute_result",
          "data": {
            "text/plain": [
              "<tf.Tensor: shape=(2,), dtype=int32, numpy=array([10, 11], dtype=int32)>"
            ]
          },
          "metadata": {
            "tags": []
          },
          "execution_count": 4
        }
      ]
    },
    {
      "cell_type": "code",
      "metadata": {
        "colab": {
          "base_uri": "https://localhost:8080/"
        },
        "id": "FkGIcga3FNQW",
        "outputId": "561c1b00-a4b2-4469-c1ac-cb007618f01e"
      },
      "source": [
        "# Check dimensions of vector\n",
        "vector.ndim"
      ],
      "execution_count": null,
      "outputs": [
        {
          "output_type": "execute_result",
          "data": {
            "text/plain": [
              "1"
            ]
          },
          "metadata": {
            "tags": []
          },
          "execution_count": 5
        }
      ]
    },
    {
      "cell_type": "code",
      "metadata": {
        "colab": {
          "base_uri": "https://localhost:8080/"
        },
        "id": "5F2bnY73Fbi6",
        "outputId": "bd78affd-9d69-4f9d-b23d-d2a05b4a0165"
      },
      "source": [
        "# Create a matrix\n",
        "matrix = tf.constant([[10.,11.],\n",
        "                      [11.,12.]], dtype=tf.float16) # using float16 dtype for 16-bit precision\n",
        "matrix"
      ],
      "execution_count": null,
      "outputs": [
        {
          "output_type": "execute_result",
          "data": {
            "text/plain": [
              "<tf.Tensor: shape=(2, 2), dtype=float16, numpy=\n",
              "array([[10., 11.],\n",
              "       [11., 12.]], dtype=float16)>"
            ]
          },
          "metadata": {
            "tags": []
          },
          "execution_count": 6
        }
      ]
    },
    {
      "cell_type": "code",
      "metadata": {
        "colab": {
          "base_uri": "https://localhost:8080/"
        },
        "id": "udMsftVKFtyh",
        "outputId": "e64f2b38-2d9f-44d1-ca80-c835ae948710"
      },
      "source": [
        "matrix.ndim"
      ],
      "execution_count": null,
      "outputs": [
        {
          "output_type": "execute_result",
          "data": {
            "text/plain": [
              "2"
            ]
          },
          "metadata": {
            "tags": []
          },
          "execution_count": 7
        }
      ]
    },
    {
      "cell_type": "code",
      "metadata": {
        "colab": {
          "base_uri": "https://localhost:8080/"
        },
        "id": "dyI88Z5OFy60",
        "outputId": "ffe7453f-b575-4968-bb64-3dedb0100cea"
      },
      "source": [
        "# Create a higher order tensor\n",
        "\n",
        "tensor = tf.constant([[[2.,3],[4,5]],\n",
        "                      [[6,7],[8,9]],\n",
        "                      [[10,11],[12,13]]])\n",
        "tensor\n"
      ],
      "execution_count": null,
      "outputs": [
        {
          "output_type": "execute_result",
          "data": {
            "text/plain": [
              "<tf.Tensor: shape=(3, 2, 2), dtype=float32, numpy=\n",
              "array([[[ 2.,  3.],\n",
              "        [ 4.,  5.]],\n",
              "\n",
              "       [[ 6.,  7.],\n",
              "        [ 8.,  9.]],\n",
              "\n",
              "       [[10., 11.],\n",
              "        [12., 13.]]], dtype=float32)>"
            ]
          },
          "metadata": {
            "tags": []
          },
          "execution_count": 8
        }
      ]
    },
    {
      "cell_type": "code",
      "metadata": {
        "colab": {
          "base_uri": "https://localhost:8080/"
        },
        "id": "_ESK_gXgHWT8",
        "outputId": "bb31abb5-bef9-4044-953e-aa2cbd75ffe0"
      },
      "source": [
        "tensor.ndim"
      ],
      "execution_count": null,
      "outputs": [
        {
          "output_type": "execute_result",
          "data": {
            "text/plain": [
              "3"
            ]
          },
          "metadata": {
            "tags": []
          },
          "execution_count": 9
        }
      ]
    },
    {
      "cell_type": "markdown",
      "metadata": {
        "id": "9wBNl6GzHbcU"
      },
      "source": [
        "#### tf.variable()\n",
        "\n",
        "A tf.Variable represents a tensor whose value can be changed by running ops on it. Specific ops allow you to read and modify the values of this tensor. Higher level libraries like tf.keras use tf.Variable to store model parameters.\n",
        "\n",
        "- tf.variables are mutable\n",
        "- you can reassign the tensor using tf.Variable.assign. Calling assign does not (usually) allocate a new tensor; instead, the existing tensor's memory is reused.\n",
        "- Creating new variables from existing variables duplicates the backing tensors. Two variables will not share the same memory.\n",
        "- Variables can also be named which can help you track and debug them. eg `a = tf.Variable(my_tensor, name=\"T1\")`\n",
        "- Variable names are preserved when saving and loading models. \n",
        "- You can turn off gradients for a variable by setting trainable to false at creation. eg `step_counter = tf.Variable(1, trainable=False)`\n"
      ]
    },
    {
      "cell_type": "code",
      "metadata": {
        "colab": {
          "base_uri": "https://localhost:8080/"
        },
        "id": "_NGt5jOBH-bi",
        "outputId": "6027d3ea-c9ad-49e9-f6ff-02bb18aed6d6"
      },
      "source": [
        "a = tf.Variable([7,10])\n",
        "a"
      ],
      "execution_count": null,
      "outputs": [
        {
          "output_type": "execute_result",
          "data": {
            "text/plain": [
              "<tf.Variable 'Variable:0' shape=(2,) dtype=int32, numpy=array([ 7, 10], dtype=int32)>"
            ]
          },
          "metadata": {
            "tags": []
          },
          "execution_count": 10
        }
      ]
    },
    {
      "cell_type": "code",
      "metadata": {
        "colab": {
          "base_uri": "https://localhost:8080/"
        },
        "id": "GrYc0Zt_ZHHz",
        "outputId": "e3cf5fc3-673f-48d0-94ee-a83535ef7fea"
      },
      "source": [
        "a.assign(a+1)"
      ],
      "execution_count": null,
      "outputs": [
        {
          "output_type": "execute_result",
          "data": {
            "text/plain": [
              "<tf.Variable 'UnreadVariable' shape=(2,) dtype=int32, numpy=array([ 8, 11], dtype=int32)>"
            ]
          },
          "metadata": {
            "tags": []
          },
          "execution_count": 11
        }
      ]
    },
    {
      "cell_type": "markdown",
      "metadata": {
        "id": "R58sQdDHZIJe"
      },
      "source": [
        "#### Random tensors"
      ]
    },
    {
      "cell_type": "code",
      "metadata": {
        "colab": {
          "base_uri": "https://localhost:8080/"
        },
        "id": "nJ487U9YPA_s",
        "outputId": "542a4074-f681-4859-a75c-949c463c8784"
      },
      "source": [
        "# creating random tensors with a specified seed\n",
        "\n",
        "rand1 = tf.random.Generator.from_seed(42)\n",
        "rand1"
      ],
      "execution_count": null,
      "outputs": [
        {
          "output_type": "execute_result",
          "data": {
            "text/plain": [
              "<tensorflow.python.ops.stateful_random_ops.Generator at 0x7f3c2edc7dd0>"
            ]
          },
          "metadata": {
            "tags": []
          },
          "execution_count": 12
        }
      ]
    },
    {
      "cell_type": "code",
      "metadata": {
        "colab": {
          "base_uri": "https://localhost:8080/"
        },
        "id": "lzMg78wnPYUR",
        "outputId": "645bcc06-79d6-45ba-cede-07aae5e0c530"
      },
      "source": [
        "# sampling from a normal distribution\n",
        "a = rand1.normal(shape=[3,2])\n",
        "a"
      ],
      "execution_count": null,
      "outputs": [
        {
          "output_type": "execute_result",
          "data": {
            "text/plain": [
              "<tf.Tensor: shape=(3, 2), dtype=float32, numpy=\n",
              "array([[-0.7565803 , -0.06854702],\n",
              "       [ 0.07595026, -1.2573844 ],\n",
              "       [-0.23193763, -1.8107855 ]], dtype=float32)>"
            ]
          },
          "metadata": {
            "tags": []
          },
          "execution_count": 13
        }
      ]
    },
    {
      "cell_type": "markdown",
      "metadata": {
        "id": "FqKN_iYWRENL"
      },
      "source": [
        "#### tf.random.shuffle()\n",
        "`def random_shuffle(value, seed=None, name=None)`\n",
        "\n",
        "Randomly shuffles a tensor along its first dimension.\n",
        "\n",
        "The tensor is shuffled along dimension 0, such that each value[j] is mapped\n",
        "to one and only one output[i].\n",
        "\n",
        "Args:\n",
        "  - value: A Tensor to be shuffled.\n",
        "  - seed: A Python integer. Used to create a random seed for the distribution.\n",
        "  - name: A name for the operation (optional).\n",
        "\n",
        "Returns:\n",
        "  - A tensor of same shape and type as value, shuffled along its first\n",
        "dimension."
      ]
    },
    {
      "cell_type": "markdown",
      "metadata": {
        "id": "6YqdZBlDsGKF"
      },
      "source": [
        "\n",
        "Operations that rely on a random seed actually derive it from two seeds: \n",
        "- **global seed**\n",
        "- **operation-level** seed \n",
        "\n",
        "`tf.random.set_seed` sets the global seed.\n",
        "\n",
        "Its interactions with operation-level seeds is as follows:\n",
        "\n",
        "- If neither the global seed nor the operation seed is set: A randomly picked seed is used for this op.\n",
        "- If the global seed is set, but the operation seed is not: The system deterministically picks an operation seed in conjunction with the global seed so that it gets a unique random sequence. Within the same version of tensorflow and user code, this sequence is deterministic. However across different versions, this sequence might change. \n",
        "- If the operation seed is set, but the global seed is not set: A default global seed and the specified operation seed are used to determine the random sequence.\n",
        "- If both the global and the operation seed are set: Both seeds are used in conjunction to determine the random sequence.\n",
        "\n",
        "**Note:** If the code depends on particular seeds to work, specify both global and operation-level seeds explicitly.\n",
        "\n",
        "https://www.tensorflow.org/api_docs/python/tf/random/set_seed"
      ]
    },
    {
      "cell_type": "code",
      "metadata": {
        "id": "NKtHj37NsFvQ"
      },
      "source": [
        "t1 = tf.constant([[2,4],[4,2],[3,6]])"
      ],
      "execution_count": null,
      "outputs": []
    },
    {
      "cell_type": "code",
      "metadata": {
        "colab": {
          "base_uri": "https://localhost:8080/"
        },
        "id": "gUsvfMwOQNzX",
        "outputId": "384ac5c3-081a-4b73-dd06-f0240a5d06f0"
      },
      "source": [
        "# Shuffling the tensor\n",
        "tf.random.shuffle(t1,seed=42)"
      ],
      "execution_count": null,
      "outputs": [
        {
          "output_type": "execute_result",
          "data": {
            "text/plain": [
              "<tf.Tensor: shape=(3, 2), dtype=int32, numpy=\n",
              "array([[3, 6],\n",
              "       [4, 2],\n",
              "       [2, 4]], dtype=int32)>"
            ]
          },
          "metadata": {
            "tags": []
          },
          "execution_count": 15
        }
      ]
    },
    {
      "cell_type": "code",
      "metadata": {
        "colab": {
          "base_uri": "https://localhost:8080/"
        },
        "id": "wIE_lrquFXDE",
        "outputId": "c4680152-648d-4067-c0e8-ab6bbad4217c"
      },
      "source": [
        "# A different tensor every time we shuffle (along the first axis(rows))\n",
        "# the seed here is operation level seed, the results on running again would still be different but across sessions would be similar\n",
        "\n",
        "tf.random.shuffle(t1, seed=42)"
      ],
      "execution_count": null,
      "outputs": [
        {
          "output_type": "execute_result",
          "data": {
            "text/plain": [
              "<tf.Tensor: shape=(3, 2), dtype=int32, numpy=\n",
              "array([[3, 6],\n",
              "       [4, 2],\n",
              "       [2, 4]], dtype=int32)>"
            ]
          },
          "metadata": {
            "tags": []
          },
          "execution_count": 16
        }
      ]
    },
    {
      "cell_type": "code",
      "metadata": {
        "colab": {
          "base_uri": "https://localhost:8080/"
        },
        "id": "gwz2cIYrFZhl",
        "outputId": "b3550ee0-5315-425c-edf5-cefe700657fb"
      },
      "source": [
        "tf.random.set_seed(42)\n",
        "tf.random.shuffle(t1, seed=42)"
      ],
      "execution_count": null,
      "outputs": [
        {
          "output_type": "execute_result",
          "data": {
            "text/plain": [
              "<tf.Tensor: shape=(3, 2), dtype=int32, numpy=\n",
              "array([[2, 4],\n",
              "       [4, 2],\n",
              "       [3, 6]], dtype=int32)>"
            ]
          },
          "metadata": {
            "tags": []
          },
          "execution_count": 17
        }
      ]
    },
    {
      "cell_type": "code",
      "metadata": {
        "colab": {
          "base_uri": "https://localhost:8080/"
        },
        "id": "1mknFnK8GlCn",
        "outputId": "b9cf9677-aaba-4cb2-9c3e-35fad6247d71"
      },
      "source": [
        "# now in the same session the global seed is set to 42. so we will get same results no matter how many times we run this \n",
        "tf.random.set_seed(42)\n",
        "tf.random.shuffle(t1, seed=42)"
      ],
      "execution_count": null,
      "outputs": [
        {
          "output_type": "execute_result",
          "data": {
            "text/plain": [
              "<tf.Tensor: shape=(3, 2), dtype=int32, numpy=\n",
              "array([[2, 4],\n",
              "       [4, 2],\n",
              "       [3, 6]], dtype=int32)>"
            ]
          },
          "metadata": {
            "tags": []
          },
          "execution_count": 18
        }
      ]
    },
    {
      "cell_type": "markdown",
      "metadata": {
        "id": "j1gOAFvGGn29"
      },
      "source": [
        "#### Generating tensors from numpy\n",
        "The main difference between Tensorflow and Numpy is that the tensors are optimised for GPUs."
      ]
    },
    {
      "cell_type": "code",
      "metadata": {
        "id": "JIhCxKuhHOPV"
      },
      "source": [
        "import numpy as np"
      ],
      "execution_count": null,
      "outputs": []
    },
    {
      "cell_type": "code",
      "metadata": {
        "colab": {
          "base_uri": "https://localhost:8080/"
        },
        "id": "Zx6uu70EH5uj",
        "outputId": "270541b5-5080-461e-ac44-f478b24cc595"
      },
      "source": [
        "tf.ones([5,5])"
      ],
      "execution_count": null,
      "outputs": [
        {
          "output_type": "execute_result",
          "data": {
            "text/plain": [
              "<tf.Tensor: shape=(5, 5), dtype=float32, numpy=\n",
              "array([[1., 1., 1., 1., 1.],\n",
              "       [1., 1., 1., 1., 1.],\n",
              "       [1., 1., 1., 1., 1.],\n",
              "       [1., 1., 1., 1., 1.],\n",
              "       [1., 1., 1., 1., 1.]], dtype=float32)>"
            ]
          },
          "metadata": {
            "tags": []
          },
          "execution_count": 20
        }
      ]
    },
    {
      "cell_type": "code",
      "metadata": {
        "colab": {
          "base_uri": "https://localhost:8080/"
        },
        "id": "fTY2aSnlIBjR",
        "outputId": "78523478-9c4d-4ebc-ebf0-5cfb90d25d38"
      },
      "source": [
        "# similar to numpy\n",
        "tf.zeros([5,5])"
      ],
      "execution_count": null,
      "outputs": [
        {
          "output_type": "execute_result",
          "data": {
            "text/plain": [
              "<tf.Tensor: shape=(5, 5), dtype=float32, numpy=\n",
              "array([[0., 0., 0., 0., 0.],\n",
              "       [0., 0., 0., 0., 0.],\n",
              "       [0., 0., 0., 0., 0.],\n",
              "       [0., 0., 0., 0., 0.],\n",
              "       [0., 0., 0., 0., 0.]], dtype=float32)>"
            ]
          },
          "metadata": {
            "tags": []
          },
          "execution_count": 21
        }
      ]
    },
    {
      "cell_type": "code",
      "metadata": {
        "id": "c7R8fjZxIF8y"
      },
      "source": [
        ""
      ],
      "execution_count": null,
      "outputs": []
    },
    {
      "cell_type": "markdown",
      "metadata": {
        "id": "XxhLTH-tI4AW"
      },
      "source": [
        "np.arange\n",
        "\n",
        "`arange([start,] stop[, step,], dtype=None)`\n",
        "\n",
        "Return evenly spaced values within a given interval.\n",
        "\n",
        "Values are generated within the half-open interval ``[start, stop)``\n",
        "For integer arguments the function is equivalent to the Python built-in\n",
        "`range` function, but returns an ndarray rather than a list.\n",
        "\n",
        "**NOTE:** When using a non-integer step, such as 0.1, the results will often not be consistent.  It is better to use `numpy.linspace` for these cases.\n",
        "\n",
        "Parameters\n",
        "\n",
        "- start : number, optional\n",
        "    Start of interval.  The interval includes this value.  The default\n",
        "    start value is 0.\n",
        "- stop : number\n",
        "    End of interval.  The interval does not include this value, except\n",
        "    in some cases where `step` is not an integer and floating point\n",
        "    round-off affects the length of `out`.\n",
        "- step : number, optional\n",
        "    Spacing between values.  For any output `out`, this is the distance\n",
        "    between two adjacent values, ``out[i+1] - out[i]``.  The default\n",
        "    step size is 1.  If `step` is specified as a position argument,\n",
        "    `start` must also be given.\n",
        "- dtype : dtype\n",
        "    The type of the output array.  If `dtype` is not given, infer the data\n",
        "    type from the other input arguments.\n",
        "\n",
        "Returns\n",
        "\n",
        "- arange : ndarray\n",
        "    Array of evenly spaced values.\n",
        "    For floating point arguments, the length of the result is\n",
        "    `ceil((stop - start)/step)`.  Because of floating point overflow,\n",
        "    this rule may result in the last element of `out` being greater\n",
        "    than `stop`."
      ]
    },
    {
      "cell_type": "code",
      "metadata": {
        "colab": {
          "base_uri": "https://localhost:8080/"
        },
        "id": "vAzC9G_UJn9V",
        "outputId": "1e273e8c-eae6-4f2f-a4a6-2999209ef4b6"
      },
      "source": [
        "np_A = np.arange(1,25, dtype=np.int32)\n",
        "np_A"
      ],
      "execution_count": null,
      "outputs": [
        {
          "output_type": "execute_result",
          "data": {
            "text/plain": [
              "array([ 1,  2,  3,  4,  5,  6,  7,  8,  9, 10, 11, 12, 13, 14, 15, 16, 17,\n",
              "       18, 19, 20, 21, 22, 23, 24], dtype=int32)"
            ]
          },
          "metadata": {
            "tags": []
          },
          "execution_count": 22
        }
      ]
    },
    {
      "cell_type": "code",
      "metadata": {
        "colab": {
          "base_uri": "https://localhost:8080/"
        },
        "id": "yvyWIX8UKO8J",
        "outputId": "c20e162d-a428-4e8c-96e6-59e63ffaecbb"
      },
      "source": [
        "# for converting into a tensor, just pass the numpy array, change the shape, make sure shape is correctly given(same number of elements)\n",
        "A = tf.constant(np_A, shape=(2,3,4))\n",
        "A"
      ],
      "execution_count": null,
      "outputs": [
        {
          "output_type": "execute_result",
          "data": {
            "text/plain": [
              "<tf.Tensor: shape=(2, 3, 4), dtype=int32, numpy=\n",
              "array([[[ 1,  2,  3,  4],\n",
              "        [ 5,  6,  7,  8],\n",
              "        [ 9, 10, 11, 12]],\n",
              "\n",
              "       [[13, 14, 15, 16],\n",
              "        [17, 18, 19, 20],\n",
              "        [21, 22, 23, 24]]], dtype=int32)>"
            ]
          },
          "metadata": {
            "tags": []
          },
          "execution_count": 23
        }
      ]
    },
    {
      "cell_type": "markdown",
      "metadata": {
        "id": "NU7t9d4BKXx4"
      },
      "source": [
        "### Getting Info from the Tensor\n",
        "- Shape\n",
        "- Rank\n",
        "- Axis or dimension\n",
        "- Size"
      ]
    },
    {
      "cell_type": "code",
      "metadata": {
        "id": "Fq_6TG6NNpdL"
      },
      "source": [
        "# creating a rank 4 tensor\n",
        "rank_4_tensor = tf.zeros(shape=[2,3,4,5])"
      ],
      "execution_count": null,
      "outputs": []
    },
    {
      "cell_type": "code",
      "metadata": {
        "colab": {
          "base_uri": "https://localhost:8080/"
        },
        "id": "sKGYB8RPOBIZ",
        "outputId": "ae368e89-302d-4711-bb13-6a7f0b80bc8d"
      },
      "source": [
        "rank_4_tensor"
      ],
      "execution_count": null,
      "outputs": [
        {
          "output_type": "execute_result",
          "data": {
            "text/plain": [
              "<tf.Tensor: shape=(2, 3, 4, 5), dtype=float32, numpy=\n",
              "array([[[[0., 0., 0., 0., 0.],\n",
              "         [0., 0., 0., 0., 0.],\n",
              "         [0., 0., 0., 0., 0.],\n",
              "         [0., 0., 0., 0., 0.]],\n",
              "\n",
              "        [[0., 0., 0., 0., 0.],\n",
              "         [0., 0., 0., 0., 0.],\n",
              "         [0., 0., 0., 0., 0.],\n",
              "         [0., 0., 0., 0., 0.]],\n",
              "\n",
              "        [[0., 0., 0., 0., 0.],\n",
              "         [0., 0., 0., 0., 0.],\n",
              "         [0., 0., 0., 0., 0.],\n",
              "         [0., 0., 0., 0., 0.]]],\n",
              "\n",
              "\n",
              "       [[[0., 0., 0., 0., 0.],\n",
              "         [0., 0., 0., 0., 0.],\n",
              "         [0., 0., 0., 0., 0.],\n",
              "         [0., 0., 0., 0., 0.]],\n",
              "\n",
              "        [[0., 0., 0., 0., 0.],\n",
              "         [0., 0., 0., 0., 0.],\n",
              "         [0., 0., 0., 0., 0.],\n",
              "         [0., 0., 0., 0., 0.]],\n",
              "\n",
              "        [[0., 0., 0., 0., 0.],\n",
              "         [0., 0., 0., 0., 0.],\n",
              "         [0., 0., 0., 0., 0.],\n",
              "         [0., 0., 0., 0., 0.]]]], dtype=float32)>"
            ]
          },
          "metadata": {
            "tags": []
          },
          "execution_count": 25
        }
      ]
    },
    {
      "cell_type": "code",
      "metadata": {
        "colab": {
          "base_uri": "https://localhost:8080/"
        },
        "id": "B1DPGY9iOCC5",
        "outputId": "2de8fb32-e033-48d1-9442-2ab8dab23d12"
      },
      "source": [
        "rank_4_tensor[0]"
      ],
      "execution_count": null,
      "outputs": [
        {
          "output_type": "execute_result",
          "data": {
            "text/plain": [
              "<tf.Tensor: shape=(3, 4, 5), dtype=float32, numpy=\n",
              "array([[[0., 0., 0., 0., 0.],\n",
              "        [0., 0., 0., 0., 0.],\n",
              "        [0., 0., 0., 0., 0.],\n",
              "        [0., 0., 0., 0., 0.]],\n",
              "\n",
              "       [[0., 0., 0., 0., 0.],\n",
              "        [0., 0., 0., 0., 0.],\n",
              "        [0., 0., 0., 0., 0.],\n",
              "        [0., 0., 0., 0., 0.]],\n",
              "\n",
              "       [[0., 0., 0., 0., 0.],\n",
              "        [0., 0., 0., 0., 0.],\n",
              "        [0., 0., 0., 0., 0.],\n",
              "        [0., 0., 0., 0., 0.]]], dtype=float32)>"
            ]
          },
          "metadata": {
            "tags": []
          },
          "execution_count": 26
        }
      ]
    },
    {
      "cell_type": "code",
      "metadata": {
        "colab": {
          "base_uri": "https://localhost:8080/"
        },
        "id": "sRRIYNVSOeFy",
        "outputId": "4fe485f7-5c02-463f-9180-7cdc6077ee9b"
      },
      "source": [
        "rank_4_tensor.shape, rank_4_tensor.ndim, tf.size(rank_4_tensor)"
      ],
      "execution_count": null,
      "outputs": [
        {
          "output_type": "execute_result",
          "data": {
            "text/plain": [
              "(TensorShape([2, 3, 4, 5]), 4, <tf.Tensor: shape=(), dtype=int32, numpy=120>)"
            ]
          },
          "metadata": {
            "tags": []
          },
          "execution_count": 27
        }
      ]
    },
    {
      "cell_type": "code",
      "metadata": {
        "colab": {
          "base_uri": "https://localhost:8080/"
        },
        "id": "Q9nXPsnHOsRW",
        "outputId": "0f4c595f-cfea-45f0-b411-635573eba096"
      },
      "source": [
        "print(\"DataType of every element: \", rank_4_tensor.dtype)\n",
        "print(\"Number of dimensions(rank): \", rank_4_tensor.ndim)\n",
        "print(\"Shape of tensor: \",rank_4_tensor.shape)\n",
        "print(\"Elements along 0 axis: \", rank_4_tensor.shape[0])\n",
        "print(\"Elements along last axis: \", rank_4_tensor.shape[-1])\n",
        "print(\"Total number of elements in the tensor\", tf.size(rank_4_tensor).numpy())"
      ],
      "execution_count": null,
      "outputs": [
        {
          "output_type": "stream",
          "text": [
            "DataType of every element:  <dtype: 'float32'>\n",
            "Number of dimensions(rank):  4\n",
            "Shape of tensor:  (2, 3, 4, 5)\n",
            "Elements along 0 axis:  2\n",
            "Elements along last axis:  5\n",
            "Total number of elements in the tensor 120\n"
          ],
          "name": "stdout"
        }
      ]
    },
    {
      "cell_type": "markdown",
      "metadata": {
        "id": "x6CKdWaRPqJf"
      },
      "source": [
        "### Indexing Tensors\n",
        "tensors can be indexed like python lists."
      ]
    },
    {
      "cell_type": "code",
      "metadata": {
        "colab": {
          "base_uri": "https://localhost:8080/"
        },
        "id": "xGhCnIv_Om8-",
        "outputId": "3f12dc08-ed93-474f-cce2-305ea241a6c2"
      },
      "source": [
        "# first 2 in each dimension\n",
        "rank_4_tensor[:2,:2,:2,:2]"
      ],
      "execution_count": null,
      "outputs": [
        {
          "output_type": "execute_result",
          "data": {
            "text/plain": [
              "<tf.Tensor: shape=(2, 2, 2, 2), dtype=float32, numpy=\n",
              "array([[[[0., 0.],\n",
              "         [0., 0.]],\n",
              "\n",
              "        [[0., 0.],\n",
              "         [0., 0.]]],\n",
              "\n",
              "\n",
              "       [[[0., 0.],\n",
              "         [0., 0.]],\n",
              "\n",
              "        [[0., 0.],\n",
              "         [0., 0.]]]], dtype=float32)>"
            ]
          },
          "metadata": {
            "tags": []
          },
          "execution_count": 29
        }
      ]
    },
    {
      "cell_type": "code",
      "metadata": {
        "colab": {
          "base_uri": "https://localhost:8080/"
        },
        "id": "wX2etU6eOtt8",
        "outputId": "e2d40d10-72d3-4701-ed39-b39976b669f5"
      },
      "source": [
        "# get first element from each dimension, for each index except final one\n",
        "rank_4_tensor[:1,:1,:1]"
      ],
      "execution_count": null,
      "outputs": [
        {
          "output_type": "execute_result",
          "data": {
            "text/plain": [
              "<tf.Tensor: shape=(1, 1, 1, 5), dtype=float32, numpy=array([[[[0., 0., 0., 0., 0.]]]], dtype=float32)>"
            ]
          },
          "metadata": {
            "tags": []
          },
          "execution_count": 31
        }
      ]
    },
    {
      "cell_type": "code",
      "metadata": {
        "id": "keXBD53oPGtN"
      },
      "source": [
        ""
      ],
      "execution_count": null,
      "outputs": []
    }
  ]
}